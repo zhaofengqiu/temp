{
 "cells": [
  {
   "cell_type": "markdown",
   "metadata": {},
   "source": [
    "## 前期准备"
   ]
  },
  {
   "cell_type": "code",
   "execution_count": 1,
   "metadata": {},
   "outputs": [
    {
     "name": "stdout",
     "output_type": "stream",
     "text": [
      "WARNING:tensorflow:From <ipython-input-1-41c8db2bdd63>:4: read_data_sets (from tensorflow.contrib.learn.python.learn.datasets.mnist) is deprecated and will be removed in a future version.\n",
      "Instructions for updating:\n",
      "Please use alternatives such as official/mnist/dataset.py from tensorflow/models.\n",
      "WARNING:tensorflow:From D:\\projectfiles\\Anaconda3\\lib\\site-packages\\tensorflow\\contrib\\learn\\python\\learn\\datasets\\mnist.py:260: maybe_download (from tensorflow.contrib.learn.python.learn.datasets.base) is deprecated and will be removed in a future version.\n",
      "Instructions for updating:\n",
      "Please write your own downloading logic.\n",
      "WARNING:tensorflow:From D:\\projectfiles\\Anaconda3\\lib\\site-packages\\tensorflow\\contrib\\learn\\python\\learn\\datasets\\mnist.py:262: extract_images (from tensorflow.contrib.learn.python.learn.datasets.mnist) is deprecated and will be removed in a future version.\n",
      "Instructions for updating:\n",
      "Please use tf.data to implement this functionality.\n",
      "Extracting MNIST_data\\train-images-idx3-ubyte.gz\n",
      "WARNING:tensorflow:From D:\\projectfiles\\Anaconda3\\lib\\site-packages\\tensorflow\\contrib\\learn\\python\\learn\\datasets\\mnist.py:267: extract_labels (from tensorflow.contrib.learn.python.learn.datasets.mnist) is deprecated and will be removed in a future version.\n",
      "Instructions for updating:\n",
      "Please use tf.data to implement this functionality.\n",
      "Extracting MNIST_data\\train-labels-idx1-ubyte.gz\n",
      "WARNING:tensorflow:From D:\\projectfiles\\Anaconda3\\lib\\site-packages\\tensorflow\\contrib\\learn\\python\\learn\\datasets\\mnist.py:110: dense_to_one_hot (from tensorflow.contrib.learn.python.learn.datasets.mnist) is deprecated and will be removed in a future version.\n",
      "Instructions for updating:\n",
      "Please use tf.one_hot on tensors.\n",
      "Extracting MNIST_data\\t10k-images-idx3-ubyte.gz\n",
      "Extracting MNIST_data\\t10k-labels-idx1-ubyte.gz\n",
      "WARNING:tensorflow:From D:\\projectfiles\\Anaconda3\\lib\\site-packages\\tensorflow\\contrib\\learn\\python\\learn\\datasets\\mnist.py:290: DataSet.__init__ (from tensorflow.contrib.learn.python.learn.datasets.mnist) is deprecated and will be removed in a future version.\n",
      "Instructions for updating:\n",
      "Please use alternatives such as official/mnist/dataset.py from tensorflow/models.\n",
      "WARNING:tensorflow:From D:\\projectfiles\\Anaconda3\\lib\\site-packages\\tensorflow\\python\\framework\\op_def_library.py:263: colocate_with (from tensorflow.python.framework.ops) is deprecated and will be removed in a future version.\n",
      "Instructions for updating:\n",
      "Colocations handled automatically by placer.\n"
     ]
    }
   ],
   "source": [
    "import tensorflow as tf\n",
    "from tensorflow.examples.tutorials.mnist import input_data\n",
    "# 载入数据\n",
    "mnist = input_data.read_data_sets('MNIST_data', one_hot=True)\n",
    "batch_size = 128\n",
    "n_batch = mnist.train.num_examples // batch_size\n",
    "\n",
    "x = tf.placeholder(tf.float32, [None,784])\n",
    "y = tf.placeholder(tf.float32, [None, 10])\n",
    "\n",
    "# 创建一个简单的神经网络\n",
    "W = tf.Variable(tf.zeros([784,10]))\n",
    "b = tf.Variable(tf.zeros([1, 10]))\n",
    "prediction = tf.nn.softmax(tf.matmul(x,W) + b)"
   ]
  },
  {
   "cell_type": "markdown",
   "metadata": {},
   "source": [
    "## 二次损失函数"
   ]
  },
  {
   "cell_type": "code",
   "execution_count": 2,
   "metadata": {},
   "outputs": [
    {
     "name": "stdout",
     "output_type": "stream",
     "text": [
      "Iter 0 Testing Accuracy: 0.7963\n",
      "Iter 1 Testing Accuracy: 0.8611\n",
      "Iter 2 Testing Accuracy: 0.8739\n",
      "Iter 3 Testing Accuracy: 0.8821\n",
      "Iter 4 Testing Accuracy: 0.8876\n",
      "Iter 5 Testing Accuracy: 0.8932\n",
      "Iter 6 Testing Accuracy: 0.8951\n",
      "Iter 7 Testing Accuracy: 0.8985\n",
      "Iter 8 Testing Accuracy: 0.9\n",
      "Iter 9 Testing Accuracy: 0.9011\n",
      "Iter 10 Testing Accuracy: 0.9029\n",
      "Iter 11 Testing Accuracy: 0.9042\n",
      "Iter 12 Testing Accuracy: 0.9052\n",
      "Iter 13 Testing Accuracy: 0.9062\n",
      "Iter 14 Testing Accuracy: 0.9067\n",
      "Iter 15 Testing Accuracy: 0.9076\n",
      "Iter 16 Testing Accuracy: 0.9092\n",
      "Iter 17 Testing Accuracy: 0.9088\n",
      "Iter 18 Testing Accuracy: 0.9106\n",
      "Iter 19 Testing Accuracy: 0.9105\n",
      "Iter 20 Testing Accuracy: 0.9115\n"
     ]
    }
   ],
   "source": [
    "# 代价函数\n",
    "loss = tf.reduce_mean(tf.square(y-prediction))\n",
    "\n",
    "# 梯度下降法\n",
    "train_step = tf.train.GradientDescentOptimizer(0.2).minimize(loss)\n",
    "\n",
    "# 初始化变量\n",
    "init = tf.global_variables_initializer()\n",
    "\n",
    "# 得到一个布尔型列表，存放结果是否正确\n",
    "correct_prediction = tf.equal(tf.argmax(y,1), tf.argmax(prediction,1)) #argmax 返回一维张量中最大值索引\n",
    "\n",
    "# 求准确率\n",
    "accuracy = tf.reduce_mean(tf.cast(correct_prediction,tf.float32)) # 把布尔值转换为浮点型求平均数\n",
    "\n",
    "with tf.Session() as sess:\n",
    "    sess.run(init)\n",
    "    for epoch in range(21):\n",
    "        for batch in range(n_batch):\n",
    "            # 获得批次数据\n",
    "            batch_xs, batch_ys = mnist.train.next_batch(batch_size)\n",
    "            sess.run(train_step, feed_dict={x:batch_xs, y:batch_ys})\n",
    "        acc = sess.run(accuracy, feed_dict={x:mnist.test.images,y:mnist.test.labels})\n",
    "        print(\"Iter \" + str(epoch) + \" Testing Accuracy: \" + str(acc))"
   ]
  },
  {
   "cell_type": "markdown",
   "metadata": {},
   "source": [
    "## 交叉熵损失函数"
   ]
  },
  {
   "cell_type": "code",
   "execution_count": 3,
   "metadata": {},
   "outputs": [
    {
     "name": "stdout",
     "output_type": "stream",
     "text": [
      "Iter 0 Testing Accuracy: 0.5681\n",
      "Iter 1 Testing Accuracy: 0.5811\n",
      "Iter 2 Testing Accuracy: 0.5791\n",
      "Iter 3 Testing Accuracy: 0.5797\n",
      "Iter 4 Testing Accuracy: 0.579\n",
      "Iter 5 Testing Accuracy: 0.5772\n",
      "Iter 6 Testing Accuracy: 0.5828\n",
      "Iter 7 Testing Accuracy: 0.5821\n",
      "Iter 8 Testing Accuracy: 0.5768\n",
      "Iter 9 Testing Accuracy: 0.5827\n",
      "Iter 10 Testing Accuracy: 0.5828\n",
      "Iter 11 Testing Accuracy: 0.5839\n",
      "Iter 12 Testing Accuracy: 0.5838\n",
      "Iter 13 Testing Accuracy: 0.5831\n",
      "Iter 14 Testing Accuracy: 0.5836\n",
      "Iter 15 Testing Accuracy: 0.5791\n",
      "Iter 16 Testing Accuracy: 0.5808\n",
      "Iter 17 Testing Accuracy: 0.5832\n",
      "Iter 18 Testing Accuracy: 0.583\n",
      "Iter 19 Testing Accuracy: 0.5832\n",
      "Iter 20 Testing Accuracy: 0.67\n"
     ]
    }
   ],
   "source": [
    "loss_sigmoid=tf.nn.sigmoid_cross_entropy_with_logits(labels=y,logits=prediction)\n",
    "\n",
    "train_sigmoid_step = tf.train.GradientDescentOptimizer(0.2).minimize(loss_sigmoid)\n",
    "\n",
    "init = tf.global_variables_initializer() \n",
    "correct_sigmoid_prediction = tf.equal(tf.argmax(y,1), tf.argmax(prediction,1)) #argmax 返回一维张量中最大值索引\n",
    "\n",
    "# 求准确率\n",
    "\n",
    "accuracy_sigmoid = tf.reduce_mean(tf.cast(correct_sigmoid_prediction,tf.float32))\n",
    "\n",
    "with tf.Session() as sess:\n",
    "    sess.run(init)\n",
    "    for epoch in range(21):\n",
    "        for batch in range(n_batch):\n",
    "            # 获得批次数据\n",
    "            batch_xs, batch_ys = mnist.train.next_batch(batch_size)\n",
    "            sess.run(train_sigmoid_step, feed_dict={x:batch_xs, y:batch_ys})\n",
    "        acc = sess.run(accuracy_sigmoid, feed_dict={x:mnist.test.images,y:mnist.test.labels})\n",
    "        print(\"Iter \" + str(epoch) + \" Testing Accuracy: \" + str(acc))\n",
    "        "
   ]
  },
  {
   "cell_type": "markdown",
   "metadata": {},
   "source": [
    "## 对数似然损失函数"
   ]
  },
  {
   "cell_type": "code",
   "execution_count": 4,
   "metadata": {},
   "outputs": [
    {
     "name": "stdout",
     "output_type": "stream",
     "text": [
      "WARNING:tensorflow:From <ipython-input-4-0ec682ee9403>:1: softmax_cross_entropy_with_logits (from tensorflow.python.ops.nn_ops) is deprecated and will be removed in a future version.\n",
      "Instructions for updating:\n",
      "\n",
      "Future major versions of TensorFlow will allow gradients to flow\n",
      "into the labels input on backprop by default.\n",
      "\n",
      "See `tf.nn.softmax_cross_entropy_with_logits_v2`.\n",
      "\n",
      "Iter 0 Testing Accuracy: 0.6817\n",
      "Iter 1 Testing Accuracy: 0.7632\n",
      "Iter 2 Testing Accuracy: 0.7662\n",
      "Iter 3 Testing Accuracy: 0.7697\n",
      "Iter 4 Testing Accuracy: 0.7688\n",
      "Iter 5 Testing Accuracy: 0.7681\n",
      "Iter 6 Testing Accuracy: 0.7693\n",
      "Iter 7 Testing Accuracy: 0.7696\n",
      "Iter 8 Testing Accuracy: 0.7717\n",
      "Iter 9 Testing Accuracy: 0.7699\n",
      "Iter 10 Testing Accuracy: 0.77\n",
      "Iter 11 Testing Accuracy: 0.7702\n",
      "Iter 12 Testing Accuracy: 0.7704\n",
      "Iter 13 Testing Accuracy: 0.77\n",
      "Iter 14 Testing Accuracy: 0.771\n",
      "Iter 15 Testing Accuracy: 0.7679\n",
      "Iter 16 Testing Accuracy: 0.7702\n",
      "Iter 17 Testing Accuracy: 0.7673\n",
      "Iter 18 Testing Accuracy: 0.7698\n",
      "Iter 19 Testing Accuracy: 0.7694\n",
      "Iter 20 Testing Accuracy: 0.771\n"
     ]
    }
   ],
   "source": [
    "loss_softmax = tf.nn.softmax_cross_entropy_with_logits(labels=y, logits=prediction)\n",
    "\n",
    "train_softmax_step = tf.train.GradientDescentOptimizer(0.2).minimize(loss_softmax)\n",
    "init = tf.global_variables_initializer()\n",
    "\n",
    "correct_softmax_prediction = tf.equal(tf.argmax(y,1), tf.argmax(prediction,1)) #argmax 返回一维张量中最大值索引\n",
    "\n",
    "accuracy_softamx = tf.reduce_mean(tf.cast(correct_softmax_prediction,tf.float32))\n",
    "\n",
    "with tf.Session() as sess:\n",
    "    sess.run(init)\n",
    "    for epoch in range(21):\n",
    "        for batch in range(n_batch):\n",
    "            # 获得批次数据\n",
    "            batch_xs, batch_ys = mnist.train.next_batch(batch_size)\n",
    "            sess.run(train_softmax_step, feed_dict={x:batch_xs, y:batch_ys})\n",
    "        acc = sess.run(accuracy_softamx, feed_dict={x:mnist.test.images,y:mnist.test.labels})\n",
    "        print(\"Iter \" + str(epoch) + \" Testing Accuracy: \" + str(acc))"
   ]
  },
  {
   "cell_type": "code",
   "execution_count": null,
   "metadata": {},
   "outputs": [],
   "source": []
  }
 ],
 "metadata": {
  "kernelspec": {
   "display_name": "Python 3",
   "language": "python",
   "name": "python3"
  },
  "language_info": {
   "codemirror_mode": {
    "name": "ipython",
    "version": 3
   },
   "file_extension": ".py",
   "mimetype": "text/x-python",
   "name": "python",
   "nbconvert_exporter": "python",
   "pygments_lexer": "ipython3",
   "version": "3.7.1"
  },
  "latex_envs": {
   "LaTeX_envs_menu_present": true,
   "autoclose": false,
   "autocomplete": true,
   "bibliofile": "biblio.bib",
   "cite_by": "apalike",
   "current_citInitial": 1,
   "eqLabelWithNumbers": true,
   "eqNumInitial": 1,
   "hotkeys": {
    "equation": "Ctrl-E",
    "itemize": "Ctrl-I"
   },
   "labels_anchors": false,
   "latex_user_defs": false,
   "report_style_numbering": false,
   "user_envs_cfg": false
  },
  "toc": {
   "base_numbering": 1,
   "nav_menu": {},
   "number_sections": true,
   "sideBar": true,
   "skip_h1_title": false,
   "title_cell": "Table of Contents",
   "title_sidebar": "Contents",
   "toc_cell": false,
   "toc_position": {},
   "toc_section_display": true,
   "toc_window_display": false
  }
 },
 "nbformat": 4,
 "nbformat_minor": 2
}
